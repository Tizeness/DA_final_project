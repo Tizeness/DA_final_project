{
 "cells": [
  {
   "cell_type": "markdown",
   "id": "be4d9b8b-7eb4-4e6f-b8dd-fed2f578b70d",
   "metadata": {},
   "source": [
    "## Чтение (выгрузка) файла с отсрортированными результатами метрик качества моделей при прогнозировании цены закрытия Bitcoin (t+1)"
   ]
  },
  {
   "cell_type": "code",
   "execution_count": 8,
   "id": "3df9b22c-6a10-4954-9bff-100e0a103694",
   "metadata": {},
   "outputs": [
    {
     "data": {
      "text/html": [
       "<div>\n",
       "<style scoped>\n",
       "    .dataframe tbody tr th:only-of-type {\n",
       "        vertical-align: middle;\n",
       "    }\n",
       "\n",
       "    .dataframe tbody tr th {\n",
       "        vertical-align: top;\n",
       "    }\n",
       "\n",
       "    .dataframe thead th {\n",
       "        text-align: right;\n",
       "    }\n",
       "</style>\n",
       "<table border=\"1\" class=\"dataframe\">\n",
       "  <thead>\n",
       "    <tr style=\"text-align: right;\">\n",
       "      <th></th>\n",
       "      <th>RunTimestamp</th>\n",
       "      <th>Model</th>\n",
       "      <th>RMSE, $</th>\n",
       "      <th>MAE, $</th>\n",
       "      <th>MAPE, %</th>\n",
       "    </tr>\n",
       "  </thead>\n",
       "  <tbody>\n",
       "    <tr>\n",
       "      <th>0</th>\n",
       "      <td>2025-09-24 14:25:11</td>\n",
       "      <td>LinearRegression</td>\n",
       "      <td>2445.73</td>\n",
       "      <td>1867.67</td>\n",
       "      <td>1.90</td>\n",
       "    </tr>\n",
       "    <tr>\n",
       "      <th>6</th>\n",
       "      <td>2025-09-24 15:11:28</td>\n",
       "      <td>LSTM</td>\n",
       "      <td>2741.31</td>\n",
       "      <td>2200.68</td>\n",
       "      <td>2.21</td>\n",
       "    </tr>\n",
       "    <tr>\n",
       "      <th>4</th>\n",
       "      <td>2025-09-24 14:54:46</td>\n",
       "      <td>SARIMA</td>\n",
       "      <td>10534.82</td>\n",
       "      <td>8169.51</td>\n",
       "      <td>8.69</td>\n",
       "    </tr>\n",
       "    <tr>\n",
       "      <th>5</th>\n",
       "      <td>2025-09-24 14:56:29</td>\n",
       "      <td>Auto-ARIMA/SARIMA</td>\n",
       "      <td>10539.07</td>\n",
       "      <td>8213.40</td>\n",
       "      <td>8.71</td>\n",
       "    </tr>\n",
       "    <tr>\n",
       "      <th>1</th>\n",
       "      <td>2025-09-24 14:25:33</td>\n",
       "      <td>Random Forest</td>\n",
       "      <td>11354.30</td>\n",
       "      <td>9458.95</td>\n",
       "      <td>9.18</td>\n",
       "    </tr>\n",
       "    <tr>\n",
       "      <th>2</th>\n",
       "      <td>2025-09-24 14:26:00</td>\n",
       "      <td>XGBoost</td>\n",
       "      <td>11780.89</td>\n",
       "      <td>9637.86</td>\n",
       "      <td>9.23</td>\n",
       "    </tr>\n",
       "    <tr>\n",
       "      <th>3</th>\n",
       "      <td>2025-09-24 14:54:40</td>\n",
       "      <td>ARIMA</td>\n",
       "      <td>11360.31</td>\n",
       "      <td>9592.98</td>\n",
       "      <td>9.73</td>\n",
       "    </tr>\n",
       "  </tbody>\n",
       "</table>\n",
       "</div>"
      ],
      "text/plain": [
       "          RunTimestamp              Model   RMSE, $   MAE, $  MAPE, %\n",
       "0  2025-09-24 14:25:11   LinearRegression   2445.73  1867.67     1.90\n",
       "6  2025-09-24 15:11:28               LSTM   2741.31  2200.68     2.21\n",
       "4  2025-09-24 14:54:46             SARIMA  10534.82  8169.51     8.69\n",
       "5  2025-09-24 14:56:29  Auto-ARIMA/SARIMA  10539.07  8213.40     8.71\n",
       "1  2025-09-24 14:25:33      Random Forest  11354.30  9458.95     9.18\n",
       "2  2025-09-24 14:26:00            XGBoost  11780.89  9637.86     9.23\n",
       "3  2025-09-24 14:54:40              ARIMA  11360.31  9592.98     9.73"
      ]
     },
     "execution_count": 8,
     "metadata": {},
     "output_type": "execute_result"
    }
   ],
   "source": [
    "import pandas as pd\n",
    "\n",
    "df_results = pd.read_csv(\"models_metrics.csv\").sort_values(by=\"MAPE, %\", ascending=True)\n",
    "df_results"
   ]
  },
  {
   "attachments": {},
   "cell_type": "markdown",
   "id": "6c709dd3-0867-4b55-bddf-edf2344f4011",
   "metadata": {},
   "source": [
    "**Результаты моделирования**\n",
    "\n",
    "В исследовании были протестированы различные подходы к прогнозированию цены закрытия Bitcoin: классические статистические модели (ARIMA, SARIMA, Auto-SARIMA), методы машинного обучения (Линейная регрессия, Random Forest, XGBoost) и нейросетевая архитектура (LSTM).\n",
    "\n",
    "Сравнительная таблица метрик (RMSE, MAE, MAPE) показала следующее:\n",
    "\n",
    "* **Линейная регрессия** стала наилучшей моделью в рамках эксперимента (MAPE ≈ 1,9%). Несмотря на простоту, она показала высокую точность прогноза и выступила сильным baseline.\n",
    "* **LSTM** продемонстрировала результаты, сопоставимые с линейной регрессией (MAPE ≈ 2,3%), и оказалась лучше, чем Random Forest и XGBoost. Использование временного окна позволило модели улавливать долгосрочные зависимости.\n",
    "* **Random Forest** и **XGBoost** показали худшие результаты (MAPE > 9%), что объясняется высокой нелинейностью и шумностью данных, а также их слабой способностью обобщать временные зависимости без ручного конструирования лагов.\n",
    "* **ARIMA, SARIMA и Auto-SARIMA** оказались менее точными (MAPE в пределах 8,7–9,7%). Эти методы могут быть полезны для классических временных рядов, но на высоковолатильных криптовалютных данных они уступают линейным и нейросетевым подходам.\n",
    "\n",
    "\n",
    "\n",
    "**Вывод:**\n",
    "Лучшими моделями для прикладного прогнозирования курса Bitcoin в данном исследовании оказались **Линейная регрессия и LSTM**, обе показали ошибки MAPE менее 3%. Это позволяет использовать их для краткосрочных прогнозов (1 день вперёд) и как основу для дальнейшего построения более сложных гибридных решений.\n",
    "\n"
   ]
  },
  {
   "cell_type": "code",
   "execution_count": null,
   "id": "d6e85158-12e8-4971-908f-d61a6cc775f0",
   "metadata": {},
   "outputs": [],
   "source": []
  }
 ],
 "metadata": {
  "kernelspec": {
   "display_name": "Python 3 (ipykernel)",
   "language": "python",
   "name": "python3"
  },
  "language_info": {
   "codemirror_mode": {
    "name": "ipython",
    "version": 3
   },
   "file_extension": ".py",
   "mimetype": "text/x-python",
   "name": "python",
   "nbconvert_exporter": "python",
   "pygments_lexer": "ipython3",
   "version": "3.12.7"
  }
 },
 "nbformat": 4,
 "nbformat_minor": 5
}
